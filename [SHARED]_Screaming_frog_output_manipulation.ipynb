{
  "nbformat": 4,
  "nbformat_minor": 0,
  "metadata": {
    "colab": {
      "name": "[SHARED] Screaming frog output manipulation.ipynb",
      "provenance": [],
      "collapsed_sections": [],
      "include_colab_link": true
    },
    "kernelspec": {
      "name": "python3",
      "display_name": "Python 3"
    },
    "language_info": {
      "name": "python"
    }
  },
  "cells": [
    {
      "cell_type": "markdown",
      "metadata": {
        "id": "view-in-github",
        "colab_type": "text"
      },
      "source": [
        "<a href=\"https://colab.research.google.com/github/Paoladidon/python-script/blob/main/%5BSHARED%5D_Screaming_frog_output_manipulation.ipynb\" target=\"_parent\"><img src=\"https://colab.research.google.com/assets/colab-badge.svg\" alt=\"Open In Colab\"/></a>"
      ]
    },
    {
      "cell_type": "code",
      "metadata": {
        "id": "B4F9_0tXp9_J",
        "colab": {
          "base_uri": "https://localhost:8080/"
        },
        "outputId": "c10da30e-c448-4b77-a829-15e26aaea7d9"
      },
      "source": [
        "import pandas as pd\n",
        "import numpy as np\n",
        "#install the package that allows to write into an excel file:\n",
        "!pip install xlsxwriter\n",
        "import xlsxwriter\n",
        "\n",
        "import matplotlib.pyplot as plt\n",
        "import openpyxl"
      ],
      "execution_count": null,
      "outputs": [
        {
          "output_type": "stream",
          "name": "stdout",
          "text": [
            "Collecting xlsxwriter\n",
            "  Downloading XlsxWriter-3.0.1-py3-none-any.whl (148 kB)\n",
            "\u001b[?25l\r\u001b[K     |██▏                             | 10 kB 24.4 MB/s eta 0:00:01\r\u001b[K     |████▍                           | 20 kB 23.5 MB/s eta 0:00:01\r\u001b[K     |██████▋                         | 30 kB 11.9 MB/s eta 0:00:01\r\u001b[K     |████████▉                       | 40 kB 9.2 MB/s eta 0:00:01\r\u001b[K     |███████████                     | 51 kB 5.2 MB/s eta 0:00:01\r\u001b[K     |█████████████▏                  | 61 kB 5.6 MB/s eta 0:00:01\r\u001b[K     |███████████████▍                | 71 kB 5.5 MB/s eta 0:00:01\r\u001b[K     |█████████████████▋              | 81 kB 6.1 MB/s eta 0:00:01\r\u001b[K     |███████████████████▉            | 92 kB 6.1 MB/s eta 0:00:01\r\u001b[K     |██████████████████████          | 102 kB 5.0 MB/s eta 0:00:01\r\u001b[K     |████████████████████████▎       | 112 kB 5.0 MB/s eta 0:00:01\r\u001b[K     |██████████████████████████▍     | 122 kB 5.0 MB/s eta 0:00:01\r\u001b[K     |████████████████████████████▋   | 133 kB 5.0 MB/s eta 0:00:01\r\u001b[K     |██████████████████████████████▉ | 143 kB 5.0 MB/s eta 0:00:01\r\u001b[K     |████████████████████████████████| 148 kB 5.0 MB/s \n",
            "\u001b[?25hInstalling collected packages: xlsxwriter\n",
            "Successfully installed xlsxwriter-3.0.1\n"
          ]
        }
      ]
    },
    {
      "cell_type": "markdown",
      "metadata": {
        "id": "nRuaY33o1L-3"
      },
      "source": [
        "Prompts a file upload from the local drive. Make sure the name of the file is 'internal_all.csv', if not please rename your file:\n"
      ]
    },
    {
      "cell_type": "markdown",
      "metadata": {
        "id": "fMGJusZeArM5"
      },
      "source": [
        ""
      ]
    },
    {
      "cell_type": "code",
      "metadata": {
        "colab": {
          "resources": {
            "http://localhost:8080/nbextensions/google.colab/files.js": {
              "data": "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",
              "ok": true,
              "headers": [
                [
                  "content-type",
                  "application/javascript"
                ]
              ],
              "status": 200,
              "status_text": ""
            }
          },
          "base_uri": "https://localhost:8080/",
          "height": 73
        },
        "id": "J6B_P8FZzfxG",
        "outputId": "91f68b4c-a0ea-436f-be77-012bb104fc5b"
      },
      "source": [
        "from google.colab import files\n",
        "uploaded = files.upload()"
      ],
      "execution_count": null,
      "outputs": [
        {
          "output_type": "display_data",
          "data": {
            "text/html": [
              "\n",
              "     <input type=\"file\" id=\"files-a3abbf70-b88c-41c5-82e3-2939507b8ed8\" name=\"files[]\" multiple disabled\n",
              "        style=\"border:none\" />\n",
              "     <output id=\"result-a3abbf70-b88c-41c5-82e3-2939507b8ed8\">\n",
              "      Upload widget is only available when the cell has been executed in the\n",
              "      current browser session. Please rerun this cell to enable.\n",
              "      </output>\n",
              "      <script src=\"/nbextensions/google.colab/files.js\"></script> "
            ],
            "text/plain": [
              "<IPython.core.display.HTML object>"
            ]
          },
          "metadata": {}
        },
        {
          "output_type": "stream",
          "name": "stdout",
          "text": [
            "Saving internal_all.csv to internal_all.csv\n"
          ]
        }
      ]
    },
    {
      "cell_type": "markdown",
      "metadata": {
        "id": "-ffyQtRWzgP1"
      },
      "source": [
        "Imports the csv into a data frame (within Colab). \n",
        "\n"
      ]
    },
    {
      "cell_type": "code",
      "metadata": {
        "id": "PylpBANx1ibe"
      },
      "source": [
        "import io\n",
        "df2 = pd.read_csv(io.BytesIO(uploaded['internal_all.csv']))\n"
      ],
      "execution_count": null,
      "outputs": []
    },
    {
      "cell_type": "markdown",
      "metadata": {
        "id": "MdwK0NXH2zEm"
      },
      "source": [
        "Prints the file so you can make sure it's uploaded correctly:"
      ]
    },
    {
      "cell_type": "code",
      "metadata": {
        "id": "dl1PQCttpg8C",
        "colab": {
          "base_uri": "https://localhost:8080/",
          "height": 684
        },
        "outputId": "dded4981-376a-4f0b-8852-b9853db7709f"
      },
      "source": [
        "df2.head()"
      ],
      "execution_count": null,
      "outputs": [
        {
          "output_type": "execute_result",
          "data": {
            "text/html": [
              "<div>\n",
              "<style scoped>\n",
              "    .dataframe tbody tr th:only-of-type {\n",
              "        vertical-align: middle;\n",
              "    }\n",
              "\n",
              "    .dataframe tbody tr th {\n",
              "        vertical-align: top;\n",
              "    }\n",
              "\n",
              "    .dataframe thead th {\n",
              "        text-align: right;\n",
              "    }\n",
              "</style>\n",
              "<table border=\"1\" class=\"dataframe\">\n",
              "  <thead>\n",
              "    <tr style=\"text-align: right;\">\n",
              "      <th></th>\n",
              "      <th>Address</th>\n",
              "      <th>Content Type</th>\n",
              "      <th>Status Code</th>\n",
              "      <th>Status</th>\n",
              "      <th>Indexability</th>\n",
              "      <th>Indexability Status</th>\n",
              "      <th>Title 1</th>\n",
              "      <th>Title 1 Length</th>\n",
              "      <th>Title 1 Pixel Width</th>\n",
              "      <th>Meta Description 1</th>\n",
              "      <th>Meta Description 1 Length</th>\n",
              "      <th>Meta Description 1 Pixel Width</th>\n",
              "      <th>Meta Keywords 1</th>\n",
              "      <th>Meta Keywords 1 Length</th>\n",
              "      <th>H1-1</th>\n",
              "      <th>H1-1 Length</th>\n",
              "      <th>H1-2</th>\n",
              "      <th>H1-2 Length</th>\n",
              "      <th>H2-1</th>\n",
              "      <th>H2-1 Length</th>\n",
              "      <th>H2-2</th>\n",
              "      <th>H2-2 Length</th>\n",
              "      <th>Meta Robots 1</th>\n",
              "      <th>Meta Robots 2</th>\n",
              "      <th>X-Robots-Tag 1</th>\n",
              "      <th>Meta Refresh 1</th>\n",
              "      <th>Canonical Link Element 1</th>\n",
              "      <th>rel=\"next\" 1</th>\n",
              "      <th>rel=\"prev\" 1</th>\n",
              "      <th>HTTP rel=\"next\" 1</th>\n",
              "      <th>HTTP rel=\"prev\" 1</th>\n",
              "      <th>amphtml Link Element</th>\n",
              "      <th>Size (bytes)</th>\n",
              "      <th>Word Count</th>\n",
              "      <th>Text Ratio</th>\n",
              "      <th>Crawl Depth</th>\n",
              "      <th>Link Score</th>\n",
              "      <th>Inlinks</th>\n",
              "      <th>Unique Inlinks</th>\n",
              "      <th>% of Total</th>\n",
              "      <th>Outlinks</th>\n",
              "      <th>Unique Outlinks</th>\n",
              "      <th>External Outlinks</th>\n",
              "      <th>Unique External Outlinks</th>\n",
              "      <th>Closest Similarity Match</th>\n",
              "      <th>No. Near Duplicates</th>\n",
              "      <th>Spelling Errors</th>\n",
              "      <th>Grammar Errors</th>\n",
              "      <th>Hash</th>\n",
              "      <th>Response Time</th>\n",
              "      <th>Last Modified</th>\n",
              "      <th>Redirect URL</th>\n",
              "      <th>Redirect Type</th>\n",
              "      <th>Cookies</th>\n",
              "      <th>HTTP Version</th>\n",
              "      <th>URL Encoded Address</th>\n",
              "      <th>Crawl Timestamp</th>\n",
              "    </tr>\n",
              "  </thead>\n",
              "  <tbody>\n",
              "    <tr>\n",
              "      <th>0</th>\n",
              "      <td>https://www.ayima.com/blog/how-to-keep-your-di...</td>\n",
              "      <td>text/html; charset=UTF-8</td>\n",
              "      <td>301</td>\n",
              "      <td>Moved Permanently</td>\n",
              "      <td>Non-Indexable</td>\n",
              "      <td>Redirected</td>\n",
              "      <td>NaN</td>\n",
              "      <td>0</td>\n",
              "      <td>0</td>\n",
              "      <td>NaN</td>\n",
              "      <td>0</td>\n",
              "      <td>0</td>\n",
              "      <td>NaN</td>\n",
              "      <td>0</td>\n",
              "      <td>NaN</td>\n",
              "      <td>0</td>\n",
              "      <td>NaN</td>\n",
              "      <td>0</td>\n",
              "      <td>NaN</td>\n",
              "      <td>0</td>\n",
              "      <td>NaN</td>\n",
              "      <td>0</td>\n",
              "      <td>NaN</td>\n",
              "      <td>NaN</td>\n",
              "      <td>NaN</td>\n",
              "      <td>NaN</td>\n",
              "      <td>NaN</td>\n",
              "      <td>NaN</td>\n",
              "      <td>NaN</td>\n",
              "      <td>NaN</td>\n",
              "      <td>NaN</td>\n",
              "      <td>NaN</td>\n",
              "      <td>0</td>\n",
              "      <td>0</td>\n",
              "      <td>0.000</td>\n",
              "      <td>4</td>\n",
              "      <td>NaN</td>\n",
              "      <td>12</td>\n",
              "      <td>12</td>\n",
              "      <td>0.87</td>\n",
              "      <td>0</td>\n",
              "      <td>0</td>\n",
              "      <td>0</td>\n",
              "      <td>0</td>\n",
              "      <td>NaN</td>\n",
              "      <td>NaN</td>\n",
              "      <td>NaN</td>\n",
              "      <td>NaN</td>\n",
              "      <td>NaN</td>\n",
              "      <td>0.159</td>\n",
              "      <td>NaN</td>\n",
              "      <td>https://www.ayima.com/uk/insights/how-to-keep-...</td>\n",
              "      <td>HTTP Redirect</td>\n",
              "      <td>NaN</td>\n",
              "      <td>HTTP/1.1</td>\n",
              "      <td>https://www.ayima.com/blog/how-to-keep-your-di...</td>\n",
              "      <td>2021-06-17 15:37:35</td>\n",
              "    </tr>\n",
              "    <tr>\n",
              "      <th>1</th>\n",
              "      <td>https://www.ayima.com/ca/contact</td>\n",
              "      <td>text/html; charset=UTF-8</td>\n",
              "      <td>200</td>\n",
              "      <td>OK</td>\n",
              "      <td>Indexable</td>\n",
              "      <td>NaN</td>\n",
              "      <td>Helping Businesses Exceed their Targets | Cont...</td>\n",
              "      <td>55</td>\n",
              "      <td>507</td>\n",
              "      <td>Want to find out how our Search solutions can ...</td>\n",
              "      <td>86</td>\n",
              "      <td>545</td>\n",
              "      <td>NaN</td>\n",
              "      <td>0</td>\n",
              "      <td>We’d love to hear from you</td>\n",
              "      <td>26</td>\n",
              "      <td>NaN</td>\n",
              "      <td>0</td>\n",
              "      <td>Get in touch</td>\n",
              "      <td>12</td>\n",
              "      <td>NaN</td>\n",
              "      <td>0</td>\n",
              "      <td>max-image-preview:large</td>\n",
              "      <td>max-snippet:-1, max-image-preview:large, max-v...</td>\n",
              "      <td>NaN</td>\n",
              "      <td>NaN</td>\n",
              "      <td>https://www.ayima.com/ca/contact</td>\n",
              "      <td>NaN</td>\n",
              "      <td>NaN</td>\n",
              "      <td>NaN</td>\n",
              "      <td>NaN</td>\n",
              "      <td>NaN</td>\n",
              "      <td>53268</td>\n",
              "      <td>342</td>\n",
              "      <td>4.694</td>\n",
              "      <td>2</td>\n",
              "      <td>NaN</td>\n",
              "      <td>347</td>\n",
              "      <td>340</td>\n",
              "      <td>24.64</td>\n",
              "      <td>24</td>\n",
              "      <td>18</td>\n",
              "      <td>0</td>\n",
              "      <td>0</td>\n",
              "      <td>NaN</td>\n",
              "      <td>NaN</td>\n",
              "      <td>NaN</td>\n",
              "      <td>NaN</td>\n",
              "      <td>8b330d2abb089d4e065e304f40b5b2e3</td>\n",
              "      <td>0.550</td>\n",
              "      <td>NaN</td>\n",
              "      <td>NaN</td>\n",
              "      <td>NaN</td>\n",
              "      <td>NaN</td>\n",
              "      <td>HTTP/1.1</td>\n",
              "      <td>https://www.ayima.com/ca/contact</td>\n",
              "      <td>2021-06-17 15:36:57</td>\n",
              "    </tr>\n",
              "    <tr>\n",
              "      <th>2</th>\n",
              "      <td>https://www.ayima.com/uk/author/tamar</td>\n",
              "      <td>text/html; charset=UTF-8</td>\n",
              "      <td>200</td>\n",
              "      <td>OK</td>\n",
              "      <td>Indexable</td>\n",
              "      <td>NaN</td>\n",
              "      <td>Tamar Batrawi - Ayima</td>\n",
              "      <td>21</td>\n",
              "      <td>200</td>\n",
              "      <td>NaN</td>\n",
              "      <td>0</td>\n",
              "      <td>0</td>\n",
              "      <td>NaN</td>\n",
              "      <td>0</td>\n",
              "      <td>Tamar Batrawi</td>\n",
              "      <td>13</td>\n",
              "      <td>NaN</td>\n",
              "      <td>0</td>\n",
              "      <td>NaN</td>\n",
              "      <td>0</td>\n",
              "      <td>NaN</td>\n",
              "      <td>0</td>\n",
              "      <td>max-image-preview:large</td>\n",
              "      <td>max-snippet:-1, max-image-preview:large, max-v...</td>\n",
              "      <td>NaN</td>\n",
              "      <td>NaN</td>\n",
              "      <td>https://www.ayima.com/uk/author/tamar</td>\n",
              "      <td>NaN</td>\n",
              "      <td>NaN</td>\n",
              "      <td>NaN</td>\n",
              "      <td>NaN</td>\n",
              "      <td>NaN</td>\n",
              "      <td>41050</td>\n",
              "      <td>255</td>\n",
              "      <td>5.085</td>\n",
              "      <td>7</td>\n",
              "      <td>NaN</td>\n",
              "      <td>4</td>\n",
              "      <td>2</td>\n",
              "      <td>0.14</td>\n",
              "      <td>21</td>\n",
              "      <td>17</td>\n",
              "      <td>1</td>\n",
              "      <td>1</td>\n",
              "      <td>NaN</td>\n",
              "      <td>NaN</td>\n",
              "      <td>NaN</td>\n",
              "      <td>NaN</td>\n",
              "      <td>3b33f4257debe02b2d87c585b13165fd</td>\n",
              "      <td>0.507</td>\n",
              "      <td>NaN</td>\n",
              "      <td>NaN</td>\n",
              "      <td>NaN</td>\n",
              "      <td>NaN</td>\n",
              "      <td>HTTP/1.1</td>\n",
              "      <td>https://www.ayima.com/uk/author/tamar</td>\n",
              "      <td>2021-06-17 15:41:42</td>\n",
              "    </tr>\n",
              "    <tr>\n",
              "      <th>3</th>\n",
              "      <td>https://www.ayima.com/hk/insights/news/ayima-h...</td>\n",
              "      <td>text/html; charset=UTF-8</td>\n",
              "      <td>200</td>\n",
              "      <td>OK</td>\n",
              "      <td>Indexable</td>\n",
              "      <td>NaN</td>\n",
              "      <td>Ayima In The Press: Helping A Non-Profit Stay ...</td>\n",
              "      <td>63</td>\n",
              "      <td>582</td>\n",
              "      <td>NaN</td>\n",
              "      <td>0</td>\n",
              "      <td>0</td>\n",
              "      <td>NaN</td>\n",
              "      <td>0</td>\n",
              "      <td>Ayima In The Press: Helping A Non-Profit Stay ...</td>\n",
              "      <td>55</td>\n",
              "      <td>NaN</td>\n",
              "      <td>0</td>\n",
              "      <td>More News</td>\n",
              "      <td>9</td>\n",
              "      <td>Is the new Google update good news for high st...</td>\n",
              "      <td>58</td>\n",
              "      <td>max-image-preview:large</td>\n",
              "      <td>max-snippet:-1, max-image-preview:large, max-v...</td>\n",
              "      <td>NaN</td>\n",
              "      <td>NaN</td>\n",
              "      <td>https://www.ayima.com/hk/insights/news/ayima-h...</td>\n",
              "      <td>NaN</td>\n",
              "      <td>NaN</td>\n",
              "      <td>NaN</td>\n",
              "      <td>NaN</td>\n",
              "      <td>NaN</td>\n",
              "      <td>57997</td>\n",
              "      <td>882</td>\n",
              "      <td>9.706</td>\n",
              "      <td>6</td>\n",
              "      <td>NaN</td>\n",
              "      <td>7</td>\n",
              "      <td>3</td>\n",
              "      <td>0.22</td>\n",
              "      <td>34</td>\n",
              "      <td>24</td>\n",
              "      <td>11</td>\n",
              "      <td>11</td>\n",
              "      <td>NaN</td>\n",
              "      <td>NaN</td>\n",
              "      <td>NaN</td>\n",
              "      <td>NaN</td>\n",
              "      <td>7693c0a1c591a9f8d22f71c7e1ca3684</td>\n",
              "      <td>0.474</td>\n",
              "      <td>NaN</td>\n",
              "      <td>NaN</td>\n",
              "      <td>NaN</td>\n",
              "      <td>NaN</td>\n",
              "      <td>HTTP/1.1</td>\n",
              "      <td>https://www.ayima.com/hk/insights/news/ayima-h...</td>\n",
              "      <td>2021-06-17 15:40:38</td>\n",
              "    </tr>\n",
              "    <tr>\n",
              "      <th>4</th>\n",
              "      <td>https://www.ayima.com/us/insights/analytics-an...</td>\n",
              "      <td>text/html; charset=UTF-8</td>\n",
              "      <td>200</td>\n",
              "      <td>OK</td>\n",
              "      <td>Indexable</td>\n",
              "      <td>NaN</td>\n",
              "      <td>20 Useful Google Analytics Segments - Ayima</td>\n",
              "      <td>43</td>\n",
              "      <td>405</td>\n",
              "      <td>NaN</td>\n",
              "      <td>0</td>\n",
              "      <td>0</td>\n",
              "      <td>NaN</td>\n",
              "      <td>0</td>\n",
              "      <td>20 Useful Google Analytics Segments</td>\n",
              "      <td>35</td>\n",
              "      <td>NaN</td>\n",
              "      <td>0</td>\n",
              "      <td>More Analytics &amp; CRO</td>\n",
              "      <td>20</td>\n",
              "      <td>How to Add a List of URLs to a Segment in Adob...</td>\n",
              "      <td>57</td>\n",
              "      <td>max-image-preview:large</td>\n",
              "      <td>max-snippet:-1, max-image-preview:large, max-v...</td>\n",
              "      <td>NaN</td>\n",
              "      <td>NaN</td>\n",
              "      <td>https://www.ayima.com/us/insights/analytics-an...</td>\n",
              "      <td>NaN</td>\n",
              "      <td>NaN</td>\n",
              "      <td>NaN</td>\n",
              "      <td>NaN</td>\n",
              "      <td>NaN</td>\n",
              "      <td>59654</td>\n",
              "      <td>988</td>\n",
              "      <td>10.688</td>\n",
              "      <td>7</td>\n",
              "      <td>NaN</td>\n",
              "      <td>7</td>\n",
              "      <td>3</td>\n",
              "      <td>0.22</td>\n",
              "      <td>35</td>\n",
              "      <td>23</td>\n",
              "      <td>24</td>\n",
              "      <td>23</td>\n",
              "      <td>NaN</td>\n",
              "      <td>NaN</td>\n",
              "      <td>NaN</td>\n",
              "      <td>NaN</td>\n",
              "      <td>def3824ca12f0c68928d86df07cfeaad</td>\n",
              "      <td>0.444</td>\n",
              "      <td>NaN</td>\n",
              "      <td>NaN</td>\n",
              "      <td>NaN</td>\n",
              "      <td>NaN</td>\n",
              "      <td>HTTP/1.1</td>\n",
              "      <td>https://www.ayima.com/us/insights/analytics-an...</td>\n",
              "      <td>2021-06-17 15:41:41</td>\n",
              "    </tr>\n",
              "  </tbody>\n",
              "</table>\n",
              "</div>"
            ],
            "text/plain": [
              "                                             Address  ...      Crawl Timestamp\n",
              "0  https://www.ayima.com/blog/how-to-keep-your-di...  ...  2021-06-17 15:37:35\n",
              "1                   https://www.ayima.com/ca/contact  ...  2021-06-17 15:36:57\n",
              "2              https://www.ayima.com/uk/author/tamar  ...  2021-06-17 15:41:42\n",
              "3  https://www.ayima.com/hk/insights/news/ayima-h...  ...  2021-06-17 15:40:38\n",
              "4  https://www.ayima.com/us/insights/analytics-an...  ...  2021-06-17 15:41:41\n",
              "\n",
              "[5 rows x 57 columns]"
            ]
          },
          "metadata": {},
          "execution_count": 4
        }
      ]
    },
    {
      "cell_type": "markdown",
      "metadata": {
        "id": "rMKI0lvWhUph"
      },
      "source": [
        "Visualise how many pages per status code\n"
      ]
    },
    {
      "cell_type": "code",
      "metadata": {
        "colab": {
          "base_uri": "https://localhost:8080/",
          "height": 235
        },
        "id": "AEpYw2XhhTYh",
        "outputId": "7f89dcef-80a7-4f55-b990-556694968373"
      },
      "source": [
        "#turning the df into a data frame\n",
        "df_status_code = df2['Status Code'].value_counts().to_frame()\n",
        "\n",
        "#Resetting the index and renaming columns\n",
        "df_status_code = df_status_code.reset_index()\n",
        "df_status_code.columns=['Status code','Number of pages']\n",
        "df_status_code\n"
      ],
      "execution_count": null,
      "outputs": [
        {
          "output_type": "execute_result",
          "data": {
            "text/html": [
              "<div>\n",
              "<style scoped>\n",
              "    .dataframe tbody tr th:only-of-type {\n",
              "        vertical-align: middle;\n",
              "    }\n",
              "\n",
              "    .dataframe tbody tr th {\n",
              "        vertical-align: top;\n",
              "    }\n",
              "\n",
              "    .dataframe thead th {\n",
              "        text-align: right;\n",
              "    }\n",
              "</style>\n",
              "<table border=\"1\" class=\"dataframe\">\n",
              "  <thead>\n",
              "    <tr style=\"text-align: right;\">\n",
              "      <th></th>\n",
              "      <th>Status code</th>\n",
              "      <th>Number of pages</th>\n",
              "    </tr>\n",
              "  </thead>\n",
              "  <tbody>\n",
              "    <tr>\n",
              "      <th>0</th>\n",
              "      <td>200</td>\n",
              "      <td>1430</td>\n",
              "    </tr>\n",
              "    <tr>\n",
              "      <th>1</th>\n",
              "      <td>301</td>\n",
              "      <td>149</td>\n",
              "    </tr>\n",
              "    <tr>\n",
              "      <th>2</th>\n",
              "      <td>302</td>\n",
              "      <td>23</td>\n",
              "    </tr>\n",
              "    <tr>\n",
              "      <th>3</th>\n",
              "      <td>308</td>\n",
              "      <td>15</td>\n",
              "    </tr>\n",
              "    <tr>\n",
              "      <th>4</th>\n",
              "      <td>404</td>\n",
              "      <td>11</td>\n",
              "    </tr>\n",
              "    <tr>\n",
              "      <th>5</th>\n",
              "      <td>0</td>\n",
              "      <td>2</td>\n",
              "    </tr>\n",
              "  </tbody>\n",
              "</table>\n",
              "</div>"
            ],
            "text/plain": [
              "   Status code  Number of pages\n",
              "0          200             1430\n",
              "1          301              149\n",
              "2          302               23\n",
              "3          308               15\n",
              "4          404               11\n",
              "5            0                2"
            ]
          },
          "metadata": {},
          "execution_count": 5
        }
      ]
    },
    {
      "cell_type": "code",
      "metadata": {
        "id": "1v5rYD9RMKBN"
      },
      "source": [
        "\n",
        "df_status_code_percentage=df2.groupby([\"Status Code\"])\\\n",
        ".agg({\"Address\" : \"count\"})[[\"Address\"]]\\\n",
        ".apply(lambda x: 100*x/x.sum())\\\n",
        ".sort_values(by=\"Address\", ascending=False)\n",
        "df_status_code_percentage=round(df_status_code_percentage,1)\n",
        "df_status_code_percentage=pd.DataFrame(df_status_code_percentage)\n",
        "df_status_code_percentage.reset_index(drop=True,inplace=True)\n",
        "#adding 5 of total\n",
        "df_status_code_percentage.rename(columns={'Address':'Percentage of total'})\n",
        "\n",
        "#concatenating number of pages and % of total\n",
        "df_status_code.rename(columns={'Status Code':'Page status code'})\n",
        "df_final=pd.concat([df_status_code,df_status_code_percentage['Address']], axis=1,sort=False)\n",
        "df_final.rename(columns={'Address':'Percentage of total'},inplace=True)\n",
        "#df_final"
      ],
      "execution_count": null,
      "outputs": []
    },
    {
      "cell_type": "markdown",
      "metadata": {
        "id": "eZsu0fxczx5P"
      },
      "source": [
        "Extracting the list of redirecting pages:"
      ]
    },
    {
      "cell_type": "code",
      "metadata": {
        "id": "jxA77IZQLR8Z"
      },
      "source": [
        "\n",
        "df_redirecting_pages=df2[(df2['Status Code']>200) & (df2['Status Code']<400)]\n",
        "\n",
        "df_r_pages=df_redirecting_pages[['Address','Status Code','Inlinks','Unique Inlinks','Redirect URL']]\n",
        "\n",
        "df_r_pages.reset_index(drop=True,inplace=True)\n",
        "\n",
        "#df_r_pages.head()"
      ],
      "execution_count": null,
      "outputs": []
    },
    {
      "cell_type": "markdown",
      "metadata": {
        "id": "JMyTYKhjz92y"
      },
      "source": [
        "Extracting the list of broken pages:"
      ]
    },
    {
      "cell_type": "code",
      "metadata": {
        "id": "E7tJxamrO-Ug"
      },
      "source": [
        "df_broken_pages=df2[df2['Status Code']>399]\n",
        "df_b_pages=df_broken_pages[['Address','Status Code','Inlinks','Unique Inlinks']]\n",
        "df_b_pages.reset_index(drop=True,inplace=True)\n",
        "\n",
        "#df_b_pages.head()"
      ],
      "execution_count": null,
      "outputs": []
    },
    {
      "cell_type": "markdown",
      "metadata": {
        "id": "Y6Uq3-4G0nDi"
      },
      "source": [
        "Extracting the list of unresponsive pages"
      ]
    },
    {
      "cell_type": "code",
      "metadata": {
        "id": "DWP_fCpwZ7DB"
      },
      "source": [
        "df_noresponse_pages=df2[df2['Status Code']>500]\n",
        "df_nr_pages=df_noresponse_pages[['Address','Status Code','Inlinks','Unique Inlinks']]\n",
        "df_nr_pages.reset_index(drop=True,inplace=True)\n",
        "#df_nr_pages.head()"
      ],
      "execution_count": null,
      "outputs": []
    },
    {
      "cell_type": "markdown",
      "metadata": {
        "id": "ZzmcCux10thd"
      },
      "source": [
        "Finding how many pages have a 200 status code and are not indexable"
      ]
    },
    {
      "cell_type": "code",
      "metadata": {
        "colab": {
          "base_uri": "https://localhost:8080/",
          "height": 111
        },
        "id": "BVep88SZKz1G",
        "outputId": "b1357e51-d619-4070-e55e-0d2268ded6bf"
      },
      "source": [
        "dfok=df2[df2['Status Code']==200]\n",
        "dfok_not_indexable=dfok[dfok.stack().str.contains('Non-Indexable').any(level=0)]\n",
        "number_of_pages=len(dfok_not_indexable)\n",
        "dfok_not_ind=dfok_not_indexable[['Address','Indexability','Indexability Status','Meta Robots 1']]\n",
        "\n",
        "df_not_indexable_stats=pd.DataFrame(['The number of non indexable pages is',number_of_pages])\n",
        "df_not_indexable_stats.columns=['Indexability stats']\n",
        "pd.options.display.max_columns = 80\n",
        "\n",
        "#calculating it as % of total\n",
        "number_of_rows=len(dfok_not_indexable)\n",
        "\n",
        "full_fd_length=len(df2)\n",
        "\n",
        "percent_of_tot=(number_of_rows/full_fd_length)*100\n",
        "percent_of_tot=round(percent_of_tot,1)\n",
        "df_percent_of_tot=pd.DataFrame(['Percentage of total',percent_of_tot])\n",
        "df_percent_of_tot.reset_index(drop=True,inplace=True)\n",
        "list(df_percent_of_tot.columns)\n",
        "df_percent_of_tot.rename(columns={0:'Percentage'},inplace=True)\n",
        "\n",
        "#concatenating the results\n",
        "df_final_indexability=pd.concat([df_not_indexable_stats,df_percent_of_tot], axis=1,sort=False)\n",
        "df_final_indexability\n",
        "\n",
        "\n"
      ],
      "execution_count": null,
      "outputs": [
        {
          "output_type": "execute_result",
          "data": {
            "text/html": [
              "<div>\n",
              "<style scoped>\n",
              "    .dataframe tbody tr th:only-of-type {\n",
              "        vertical-align: middle;\n",
              "    }\n",
              "\n",
              "    .dataframe tbody tr th {\n",
              "        vertical-align: top;\n",
              "    }\n",
              "\n",
              "    .dataframe thead th {\n",
              "        text-align: right;\n",
              "    }\n",
              "</style>\n",
              "<table border=\"1\" class=\"dataframe\">\n",
              "  <thead>\n",
              "    <tr style=\"text-align: right;\">\n",
              "      <th></th>\n",
              "      <th>Indexability stats</th>\n",
              "      <th>Percentage</th>\n",
              "    </tr>\n",
              "  </thead>\n",
              "  <tbody>\n",
              "    <tr>\n",
              "      <th>0</th>\n",
              "      <td>The number of non indexable pages is</td>\n",
              "      <td>Percentage of total</td>\n",
              "    </tr>\n",
              "    <tr>\n",
              "      <th>1</th>\n",
              "      <td>149</td>\n",
              "      <td>9.1</td>\n",
              "    </tr>\n",
              "  </tbody>\n",
              "</table>\n",
              "</div>"
            ],
            "text/plain": [
              "                     Indexability stats           Percentage\n",
              "0  The number of non indexable pages is  Percentage of total\n",
              "1                                   149                  9.1"
            ]
          },
          "metadata": {},
          "execution_count": 10
        }
      ]
    },
    {
      "cell_type": "markdown",
      "metadata": {
        "id": "Z7RIRm-SXp02"
      },
      "source": [
        "Finding how many pages are 200 status code and have parameters"
      ]
    },
    {
      "cell_type": "code",
      "metadata": {
        "colab": {
          "base_uri": "https://localhost:8080/",
          "height": 111
        },
        "id": "bn_mz-WpZ1BN",
        "outputId": "1c1bc06e-0f75-4cc7-a5d0-ff0ae0114715"
      },
      "source": [
        "\n",
        "df_parameters= dfok.loc[dfok['Address'].str.contains(\"=\",)]\n",
        "number_of_param_pages=len(df_parameters)\n",
        "\n",
        "df_param_final=df_parameters[['Address','Status Code','Indexability','Indexability Status','Meta Robots 1','Canonical Link Element 1','Inlinks','Unique Inlinks']]\n",
        "\n",
        "df_stats_parameter=pd.DataFrame(['The number of pages with parameters is',number_of_param_pages])\n",
        "df_stats_parameter.columns=['Parameterised Pages']\n",
        "#df_stats_parameter\n",
        "\n",
        "#calculating it as % of total\n",
        "percent_of_tot=(number_of_param_pages/full_fd_length)*100\n",
        "percent_of_tot=round(percent_of_tot,1)\n",
        "\n",
        "df_percent_of_tot=pd.DataFrame(['Percentage of total',percent_of_tot])\n",
        "df_percent_of_tot.reset_index(drop=True,inplace=True)\n",
        "list(df_percent_of_tot.columns)\n",
        "df_percent_of_tot.rename(columns={0:'Percentage'},inplace=True)\n",
        "\n",
        "df_final_parameterised=pd.concat([df_stats_parameter,df_percent_of_tot], axis=1,sort=False)\n",
        "df_final_parameterised"
      ],
      "execution_count": null,
      "outputs": [
        {
          "output_type": "execute_result",
          "data": {
            "text/html": [
              "<div>\n",
              "<style scoped>\n",
              "    .dataframe tbody tr th:only-of-type {\n",
              "        vertical-align: middle;\n",
              "    }\n",
              "\n",
              "    .dataframe tbody tr th {\n",
              "        vertical-align: top;\n",
              "    }\n",
              "\n",
              "    .dataframe thead th {\n",
              "        text-align: right;\n",
              "    }\n",
              "</style>\n",
              "<table border=\"1\" class=\"dataframe\">\n",
              "  <thead>\n",
              "    <tr style=\"text-align: right;\">\n",
              "      <th></th>\n",
              "      <th>Parameterised Pages</th>\n",
              "      <th>Percentage</th>\n",
              "    </tr>\n",
              "  </thead>\n",
              "  <tbody>\n",
              "    <tr>\n",
              "      <th>0</th>\n",
              "      <td>The number of pages with parameters is</td>\n",
              "      <td>Percentage of total</td>\n",
              "    </tr>\n",
              "    <tr>\n",
              "      <th>1</th>\n",
              "      <td>180</td>\n",
              "      <td>11</td>\n",
              "    </tr>\n",
              "  </tbody>\n",
              "</table>\n",
              "</div>"
            ],
            "text/plain": [
              "                      Parameterised Pages           Percentage\n",
              "0  The number of pages with parameters is  Percentage of total\n",
              "1                                     180                   11"
            ]
          },
          "metadata": {},
          "execution_count": 11
        }
      ]
    },
    {
      "cell_type": "markdown",
      "metadata": {
        "id": "rkd5PcU38Nmq"
      },
      "source": [
        "Finding how many pages have a title that is too short or too long:"
      ]
    },
    {
      "cell_type": "code",
      "metadata": {
        "id": "_M-SrdTC8NGA"
      },
      "source": [
        "dfok_indexable = dfok[dfok['Indexability']=='Indexable']\n",
        "\n",
        "df_short_title= dfok_indexable[(dfok_indexable['Title 1 Length'] <= 30) ]\n",
        "df_s_title=df_short_title[['Address','Indexability','Title 1', 'Title 1 Length','Meta Description 1','H1-1']]\n",
        "\n",
        "df_long_title= dfok_indexable[(dfok_indexable['Title 1 Length'] > 60) ]\n",
        "df_l_title=df_long_title[['Address','Indexability','Title 1', 'Title 1 Length','Meta Description 1','H1-1']]\n",
        "\n",
        "df_s_title.reset_index(drop=True,inplace=True)\n",
        "df_l_title.reset_index(drop=True,inplace=True)\n"
      ],
      "execution_count": null,
      "outputs": []
    },
    {
      "cell_type": "markdown",
      "metadata": {
        "id": "WWtHzOmzbm5I"
      },
      "source": [
        "Extracting the list of pages missing title tags"
      ]
    },
    {
      "cell_type": "code",
      "metadata": {
        "colab": {
          "base_uri": "https://localhost:8080/",
          "height": 111
        },
        "id": "yEWNcB2RbmM1",
        "outputId": "e879a3a3-bccd-49c1-a92a-7a50d15be115"
      },
      "source": [
        "df_missing_title=dfok_indexable[(dfok_indexable['Title 1 Length']==0)]\n",
        "df_m_title=df_missing_title[['Address','Indexability','Title 1', 'Title 1 Length','Meta Description 1','H1-1']]\n",
        "#df_m_title.head()\n",
        "\n",
        "#counting number of pages missing the title\n",
        "missing_title=len(df_m_title)\n",
        "df_stats_m_titles=pd.DataFrame(['The number of pages missing a title tag is',missing_title])\n",
        "df_stats_m_titles.columns=['Pages missing titles']\n",
        "df_stats_m_titles"
      ],
      "execution_count": null,
      "outputs": [
        {
          "output_type": "execute_result",
          "data": {
            "text/html": [
              "<div>\n",
              "<style scoped>\n",
              "    .dataframe tbody tr th:only-of-type {\n",
              "        vertical-align: middle;\n",
              "    }\n",
              "\n",
              "    .dataframe tbody tr th {\n",
              "        vertical-align: top;\n",
              "    }\n",
              "\n",
              "    .dataframe thead th {\n",
              "        text-align: right;\n",
              "    }\n",
              "</style>\n",
              "<table border=\"1\" class=\"dataframe\">\n",
              "  <thead>\n",
              "    <tr style=\"text-align: right;\">\n",
              "      <th></th>\n",
              "      <th>Pages missing titles</th>\n",
              "    </tr>\n",
              "  </thead>\n",
              "  <tbody>\n",
              "    <tr>\n",
              "      <th>0</th>\n",
              "      <td>The number of pages missing a title tag is</td>\n",
              "    </tr>\n",
              "    <tr>\n",
              "      <th>1</th>\n",
              "      <td>50</td>\n",
              "    </tr>\n",
              "  </tbody>\n",
              "</table>\n",
              "</div>"
            ],
            "text/plain": [
              "                         Pages missing titles\n",
              "0  The number of pages missing a title tag is\n",
              "1                                          50"
            ]
          },
          "metadata": {},
          "execution_count": 13
        }
      ]
    },
    {
      "cell_type": "markdown",
      "metadata": {
        "id": "EmfxkXakdKMv"
      },
      "source": [
        "Extracting the list of pages missing a meta description"
      ]
    },
    {
      "cell_type": "code",
      "metadata": {
        "colab": {
          "base_uri": "https://localhost:8080/",
          "height": 111
        },
        "id": "BLVFCjXbdOt4",
        "outputId": "f2af6f63-e7d5-4577-9d7e-672f361dd4f9"
      },
      "source": [
        "df_missing_desc=dfok_indexable[(dfok_indexable['Meta Description 1 Length']==0)]\n",
        "df_m_desc=df_missing_desc[['Address','Indexability','Title 1', 'Title 1 Length','Meta Description 1','H1-1']]\n",
        "#df_m_desc.head()\n",
        "\n",
        "#counting he number of oages missing description\n",
        "missing_desc=len(df_m_desc)\n",
        "df_stats_m_desc=pd.DataFrame(['The number of pages missing a meta description is',missing_desc])\n",
        "df_stats_m_desc.columns=['Pages missing description']\n",
        "df_stats_m_desc"
      ],
      "execution_count": null,
      "outputs": [
        {
          "output_type": "execute_result",
          "data": {
            "text/html": [
              "<div>\n",
              "<style scoped>\n",
              "    .dataframe tbody tr th:only-of-type {\n",
              "        vertical-align: middle;\n",
              "    }\n",
              "\n",
              "    .dataframe tbody tr th {\n",
              "        vertical-align: top;\n",
              "    }\n",
              "\n",
              "    .dataframe thead th {\n",
              "        text-align: right;\n",
              "    }\n",
              "</style>\n",
              "<table border=\"1\" class=\"dataframe\">\n",
              "  <thead>\n",
              "    <tr style=\"text-align: right;\">\n",
              "      <th></th>\n",
              "      <th>Pages missing description</th>\n",
              "    </tr>\n",
              "  </thead>\n",
              "  <tbody>\n",
              "    <tr>\n",
              "      <th>0</th>\n",
              "      <td>The number of pages missing a meta description is</td>\n",
              "    </tr>\n",
              "    <tr>\n",
              "      <th>1</th>\n",
              "      <td>1006</td>\n",
              "    </tr>\n",
              "  </tbody>\n",
              "</table>\n",
              "</div>"
            ],
            "text/plain": [
              "                           Pages missing description\n",
              "0  The number of pages missing a meta description is\n",
              "1                                               1006"
            ]
          },
          "metadata": {},
          "execution_count": 14
        }
      ]
    },
    {
      "cell_type": "code",
      "metadata": {
        "colab": {
          "base_uri": "https://localhost:8080/",
          "height": 111
        },
        "id": "CgVmIgaQQwz2",
        "outputId": "1e790297-cf12-4b8a-a174-d853a390b762"
      },
      "source": [
        "short_title_number_pages=len(df_short_title)\n",
        "df_stats_short_title=pd.DataFrame(['The number of indexable pages with short titles is',short_title_number_pages])\n",
        "df_stats_short_title.columns=['Pages with short titles']\n",
        "df_stats_short_title\n"
      ],
      "execution_count": null,
      "outputs": [
        {
          "output_type": "execute_result",
          "data": {
            "text/html": [
              "<div>\n",
              "<style scoped>\n",
              "    .dataframe tbody tr th:only-of-type {\n",
              "        vertical-align: middle;\n",
              "    }\n",
              "\n",
              "    .dataframe tbody tr th {\n",
              "        vertical-align: top;\n",
              "    }\n",
              "\n",
              "    .dataframe thead th {\n",
              "        text-align: right;\n",
              "    }\n",
              "</style>\n",
              "<table border=\"1\" class=\"dataframe\">\n",
              "  <thead>\n",
              "    <tr style=\"text-align: right;\">\n",
              "      <th></th>\n",
              "      <th>Pages with short titles</th>\n",
              "    </tr>\n",
              "  </thead>\n",
              "  <tbody>\n",
              "    <tr>\n",
              "      <th>0</th>\n",
              "      <td>The number of indexable pages with short title...</td>\n",
              "    </tr>\n",
              "    <tr>\n",
              "      <th>1</th>\n",
              "      <td>280</td>\n",
              "    </tr>\n",
              "  </tbody>\n",
              "</table>\n",
              "</div>"
            ],
            "text/plain": [
              "                             Pages with short titles\n",
              "0  The number of indexable pages with short title...\n",
              "1                                                280"
            ]
          },
          "metadata": {},
          "execution_count": 15
        }
      ]
    },
    {
      "cell_type": "code",
      "metadata": {
        "colab": {
          "base_uri": "https://localhost:8080/",
          "height": 111
        },
        "id": "aIDSsptmA0G6",
        "outputId": "ab631170-a85a-41c9-d473-6de6d0c2726c"
      },
      "source": [
        "long_title_number_pages=len(df_long_title)\n",
        "df_stats_long_title=pd.DataFrame(['The number of indexable pages with long titles is',long_title_number_pages])\n",
        "df_stats_long_title.columns=['Pages with long titles']\n",
        "df_stats_long_title"
      ],
      "execution_count": null,
      "outputs": [
        {
          "output_type": "execute_result",
          "data": {
            "text/html": [
              "<div>\n",
              "<style scoped>\n",
              "    .dataframe tbody tr th:only-of-type {\n",
              "        vertical-align: middle;\n",
              "    }\n",
              "\n",
              "    .dataframe tbody tr th {\n",
              "        vertical-align: top;\n",
              "    }\n",
              "\n",
              "    .dataframe thead th {\n",
              "        text-align: right;\n",
              "    }\n",
              "</style>\n",
              "<table border=\"1\" class=\"dataframe\">\n",
              "  <thead>\n",
              "    <tr style=\"text-align: right;\">\n",
              "      <th></th>\n",
              "      <th>Pages with long titles</th>\n",
              "    </tr>\n",
              "  </thead>\n",
              "  <tbody>\n",
              "    <tr>\n",
              "      <th>0</th>\n",
              "      <td>The number of indexable pages with long titles is</td>\n",
              "    </tr>\n",
              "    <tr>\n",
              "      <th>1</th>\n",
              "      <td>267</td>\n",
              "    </tr>\n",
              "  </tbody>\n",
              "</table>\n",
              "</div>"
            ],
            "text/plain": [
              "                              Pages with long titles\n",
              "0  The number of indexable pages with long titles is\n",
              "1                                                267"
            ]
          },
          "metadata": {},
          "execution_count": 16
        }
      ]
    },
    {
      "cell_type": "markdown",
      "metadata": {
        "id": "hQsmBc2pB3wQ"
      },
      "source": [
        "Visualise how many pages have the same title:"
      ]
    },
    {
      "cell_type": "code",
      "metadata": {
        "id": "WsnSx9GGB25B"
      },
      "source": [
        "df_title_repetition = df2['Title 1'].value_counts().to_frame()\n",
        "df_title_repetition = df_title_repetition.reset_index()\n",
        "df_title_repetition.columns =['Title 1','pages']\n",
        "#df_title_repetition"
      ],
      "execution_count": null,
      "outputs": []
    },
    {
      "cell_type": "markdown",
      "metadata": {
        "id": "aenh1a9GXR0s"
      },
      "source": [
        "Putting together outputs in an excel file:"
      ]
    },
    {
      "cell_type": "code",
      "metadata": {
        "id": "W7CU1bfzhG9m",
        "colab": {
          "base_uri": "https://localhost:8080/",
          "height": 17
        },
        "outputId": "4ca77c41-a904-47e1-8bda-f19ae76b6c3e"
      },
      "source": [
        "with pd.ExcelWriter('output.xlsx', engine='xlsxwriter') as writer:\n",
        "   \n",
        "    df_final.to_excel(writer, sheet_name='Stats', index=False)\n",
        "    \n",
        "    df_final_indexability.to_excel(writer, sheet_name='Stats', index=False,\n",
        "                      startrow=(df_status_code.shape[0] + 2))\n",
        "    \n",
        "    for column in df_final_indexability:\n",
        "      column_width = max(df_final_indexability[column].astype(str).map(len).max(), len(column))\n",
        "      col_idx = df_final_indexability.columns.get_loc(column)\n",
        "    writer.sheets['Stats'].set_column(col_idx, col_idx, column_width)\n",
        "   \n",
        "    df_final_parameterised.to_excel(writer, sheet_name='Stats', index=False,\n",
        "                      startrow=(df_status_code.shape[0] +6))\n",
        "   \n",
        "    df_stats_short_title.to_excel(writer,sheet_name='Stats', index=False,\n",
        "                       startrow=(df_status_code.shape[0] +10))\n",
        "   \n",
        "    df_stats_long_title.to_excel(writer,sheet_name='Stats', index=False,\n",
        "                       startrow=(df_status_code.shape[0] +14))  \n",
        "    \n",
        "    df_stats_m_titles.to_excel(writer,sheet_name='Stats', index=False,\n",
        "                       startrow=(df_status_code.shape[0] +18)) \n",
        "    \n",
        "    df_stats_m_desc.to_excel(writer,sheet_name='Stats', index=False,\n",
        "                       startrow=(df_status_code.shape[0] +22))\n",
        "    \n",
        "\n",
        "#write data in a different tab:\n",
        "\n",
        "    df_r_pages.to_excel(writer,sheet_name='Redirecting pages', index=False)\n",
        "    for column in df_r_pages:\n",
        "      col_idx = df_r_pages.columns.get_loc(column)\n",
        "    writer.sheets['Redirecting pages'].set_column(col_idx, col_idx, 30)\n",
        "\n",
        "    df_b_pages.to_excel(writer,sheet_name='Broken pages', index=False)\n",
        "    for column in df_b_pages:\n",
        "       col_idx = df_b_pages.columns.get_loc(column)\n",
        "    writer.sheets['Broken pages'].set_column(col_idx, col_idx, 30)\n",
        "\n",
        "    df_nr_pages.to_excel(writer,sheet_name='5xx pages',index=False)  \n",
        "    for column in df_nr_pages:\n",
        "       col_idx = df_nr_pages.columns.get_loc(column)\n",
        "    writer.sheets['5xx pages'].set_column(col_idx, col_idx, 30)\n",
        "\n",
        "\n",
        "    dfok_not_ind.to_excel(writer,sheet_name='Not_indexable', index=False )\n",
        "    for column in dfok_not_ind:\n",
        "     col_idx = dfok_not_ind.columns.get_loc(column)\n",
        "    writer.sheets['Not_indexable'].set_column(col_idx, col_idx, 40)\n",
        "\n",
        "#col_idx = df.columns.get_loc('this_is_a_long_column_name')\n",
        "#writer.sheets['my_analysis'].set_column(col_idx, col_idx, 30)\n",
        "\n",
        "    df_param_final.to_excel(writer, sheet_name='Parameterised_URLs', index=False)\n",
        "    for column in df_param_final:\n",
        "      col_idx = df_param_final.columns.get_loc(column)\n",
        "    writer.sheets['Parameterised_URLs'].set_column(col_idx, col_idx, 40)\n",
        "\n",
        "    df_s_title.to_excel(writer,sheet_name='Short titles',index=False)\n",
        "    for column in df_s_title:\n",
        "        col_idx = df_s_title.columns.get_loc(column)\n",
        "    writer.sheets['Short titles'].set_column(col_idx, col_idx, 40)\n",
        "\n",
        "    df_l_title.to_excel(writer,sheet_name='Long titles',index=False)\n",
        "    for column in df_l_title:\n",
        "     # column_width = df_l_title[column].astype(str).str.len().max()\n",
        "     # column_width = max(column_width, len(column))\n",
        "      col_idx = df_l_title.columns.get_loc(column)\n",
        "    writer.sheets['Long titles'].set_column(col_idx, col_idx, 40)\n",
        "\n",
        "    df_m_title.to_excel(writer,sheet_name='Missing titles',index=False)\n",
        "    for column in df_m_title:\n",
        "     # column_width = df_l_title[column].astype(str).str.len().max()\n",
        "     # column_width = max(column_width, len(column))\n",
        "      col_idx = df_m_title.columns.get_loc(column)\n",
        "    writer.sheets['Missing titles'].set_column(col_idx, col_idx, 40)\n",
        "\n",
        "    df_m_desc.to_excel(writer,sheet_name='Missing description',index=False)\n",
        "    for column in df_m_desc:\n",
        "      col_idx = df_m_desc.columns.get_loc(column)\n",
        "    writer.sheets['Missing description'].set_column(col_idx, col_idx, 40)\n",
        "\n",
        "    df_title_repetition.to_excel(writer,sheet_name='Duplicate_titles', index=False)\n",
        "    for column in df_title_repetition:\n",
        "      col_idx = df_title_repetition.columns.get_loc(column)\n",
        "    writer.sheets['Duplicate_titles'].set_column(col_idx, col_idx, 40)\n",
        "   \n",
        "\n",
        "\n",
        "from google.colab import files\n",
        "files.download('output.xlsx')"
      ],
      "execution_count": null,
      "outputs": [
        {
          "output_type": "display_data",
          "data": {
            "application/javascript": [
              "\n",
              "    async function download(id, filename, size) {\n",
              "      if (!google.colab.kernel.accessAllowed) {\n",
              "        return;\n",
              "      }\n",
              "      const div = document.createElement('div');\n",
              "      const label = document.createElement('label');\n",
              "      label.textContent = `Downloading \"${filename}\": `;\n",
              "      div.appendChild(label);\n",
              "      const progress = document.createElement('progress');\n",
              "      progress.max = size;\n",
              "      div.appendChild(progress);\n",
              "      document.body.appendChild(div);\n",
              "\n",
              "      const buffers = [];\n",
              "      let downloaded = 0;\n",
              "\n",
              "      const channel = await google.colab.kernel.comms.open(id);\n",
              "      // Send a message to notify the kernel that we're ready.\n",
              "      channel.send({})\n",
              "\n",
              "      for await (const message of channel.messages) {\n",
              "        // Send a message to notify the kernel that we're ready.\n",
              "        channel.send({})\n",
              "        if (message.buffers) {\n",
              "          for (const buffer of message.buffers) {\n",
              "            buffers.push(buffer);\n",
              "            downloaded += buffer.byteLength;\n",
              "            progress.value = downloaded;\n",
              "          }\n",
              "        }\n",
              "      }\n",
              "      const blob = new Blob(buffers, {type: 'application/binary'});\n",
              "      const a = document.createElement('a');\n",
              "      a.href = window.URL.createObjectURL(blob);\n",
              "      a.download = filename;\n",
              "      div.appendChild(a);\n",
              "      a.click();\n",
              "      div.remove();\n",
              "    }\n",
              "  "
            ],
            "text/plain": [
              "<IPython.core.display.Javascript object>"
            ]
          },
          "metadata": {}
        },
        {
          "output_type": "display_data",
          "data": {
            "application/javascript": [
              "download(\"download_aaad39bd-ea6c-49a8-8e62-2452e32ee65c\", \"output.xlsx\", 148650)"
            ],
            "text/plain": [
              "<IPython.core.display.Javascript object>"
            ]
          },
          "metadata": {}
        }
      ]
    },
    {
      "cell_type": "markdown",
      "metadata": {
        "id": "lUvGQtuF6UY6"
      },
      "source": [
        "Visualise on a graph: \n",
        "\n",
        "*   Page status code\n",
        "*   Title length\n",
        "*   Meta description length\n",
        "\n",
        "\n",
        "\n"
      ]
    },
    {
      "cell_type": "code",
      "metadata": {
        "colab": {
          "base_uri": "https://localhost:8080/",
          "height": 844
        },
        "id": "9N0bFcsO26u3",
        "outputId": "6ff85afd-b1bd-4083-90a9-dcc7d043c5a4"
      },
      "source": [
        "df2.hist('Status Code')\n",
        "df2.hist('Title 1 Length')\n",
        "df2.hist('Meta Description 1 Length')\n"
      ],
      "execution_count": null,
      "outputs": [
        {
          "output_type": "execute_result",
          "data": {
            "text/plain": [
              "array([[<matplotlib.axes._subplots.AxesSubplot object at 0x7fb334653890>]],\n",
              "      dtype=object)"
            ]
          },
          "metadata": {},
          "execution_count": 20
        },
        {
          "output_type": "display_data",
          "data": {
            "image/png": "[encoded data removed]",
            "text/plain": [
              "<Figure size 432x288 with 1 Axes>"
            ]
          },
          "metadata": {
            "needs_background": "light"
          }
        },
        {
          "output_type": "display_data",
          "data": {
            "image/png": "[encoded data removed]",
            "text/plain": [
              "<Figure size 432x288 with 1 Axes>"
            ]
          },
          "metadata": {
            "needs_background": "light"
          }
        },
        {
          "output_type": "display_data",
          "data": {
            "image/png": "[encoded data removed]",
            "text/plain": [
              "<Figure size 432x288 with 1 Axes>"
            ]
          },
          "metadata": {
            "needs_background": "light"
          }
        }
      ]
    }
  ]
}